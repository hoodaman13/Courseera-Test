{
 "cells": [
  {
   "cell_type": "markdown",
   "id": "6c978756-a2c8-4921-b8d7-e188386ade3b",
   "metadata": {},
   "source": [
    "# Data Science Tools and Ecosystem"
   ]
  },
  {
   "cell_type": "markdown",
   "id": "97a401df-48a4-4c40-9ee2-1356e69c4a63",
   "metadata": {},
   "source": [
    "In this notebook, Data Science Tools and Ecosystem are summarised"
   ]
  },
  {
   "cell_type": "markdown",
   "id": "5129bdd1-e191-47aa-a2bb-07fc907f57be",
   "metadata": {},
   "source": [
    "Some of the popular languages that Data Scientists use are: \n",
    "\n",
    "1. Python\n",
    "2. R \n",
    "3. SQL "
   ]
  },
  {
   "cell_type": "markdown",
   "id": "595727bd-4dd6-4a66-ba8c-6545dda951ae",
   "metadata": {},
   "source": [
    "Some of the commonly used libraries that Data Scientists use are: \n",
    "\n",
    "1. Pandas \n",
    "2. Numpy\n",
    "3. Matplotlib"
   ]
  },
  {
   "cell_type": "markdown",
   "id": "c7767daa-4278-4765-acc3-9cb795a8d4fc",
   "metadata": {},
   "source": [
    "| Data Science Tools | \n",
    "----\n",
    "|Jupyter | \n",
    "| IBM Watson | \n",
    "| Google Colab|"
   ]
  },
  {
   "cell_type": "markdown",
   "id": "186ea8c1-83a8-4822-87e0-db676697d5bb",
   "metadata": {},
   "source": [
    "### Below are a few examples of arithmetic expressions in Python"
   ]
  },
  {
   "cell_type": "code",
   "execution_count": 1,
   "id": "501d7208-184c-4cef-a204-28c605f8216b",
   "metadata": {},
   "outputs": [
    {
     "name": "stdout",
     "output_type": "stream",
     "text": [
      "17\n"
     ]
    }
   ],
   "source": [
    "# This is a simple arithmetic function to multiply integers\n",
    "print ((3*4)+5)"
   ]
  },
  {
   "cell_type": "code",
   "execution_count": 2,
   "id": "722dfa60-1573-4476-a573-13770e71107a",
   "metadata": {},
   "outputs": [
    {
     "name": "stdout",
     "output_type": "stream",
     "text": [
      "3.3333333333333335\n"
     ]
    }
   ],
   "source": [
    "#This will convert 200 minutes to hours by diving by 60\n",
    "x = 60 \n",
    "y = 200 \n",
    "print (y/x)"
   ]
  },
  {
   "cell_type": "markdown",
   "id": "20b4b7b5-4ecd-4591-9d5e-8b9c9a5cdd66",
   "metadata": {},
   "source": [
    "**Objectives:**\n",
    "- Popular Languages in Data Science \n",
    "- Popular Data Science Tools \n",
    "- Popular opensource tools"
   ]
  },
  {
   "cell_type": "markdown",
   "id": "e153812b-db40-4489-8079-65eb9d5e38d9",
   "metadata": {},
   "source": [
    "## Author \n",
    "Samanvya Hooda"
   ]
  },
  {
   "cell_type": "code",
   "execution_count": null,
   "id": "334a97f9-e0df-4c47-b509-d363c732a2d0",
   "metadata": {},
   "outputs": [],
   "source": []
  }
 ],
 "metadata": {
  "kernelspec": {
   "display_name": "Python 3 (ipykernel)",
   "language": "python",
   "name": "python3"
  },
  "language_info": {
   "codemirror_mode": {
    "name": "ipython",
    "version": 3
   },
   "file_extension": ".py",
   "mimetype": "text/x-python",
   "name": "python",
   "nbconvert_exporter": "python",
   "pygments_lexer": "ipython3",
   "version": "3.10.9"
  }
 },
 "nbformat": 4,
 "nbformat_minor": 5
}
